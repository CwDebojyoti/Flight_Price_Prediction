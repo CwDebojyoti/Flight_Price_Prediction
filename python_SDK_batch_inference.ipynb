{
 "cells": [
  {
   "cell_type": "code",
   "execution_count": 1,
   "id": "abf3ea59",
   "metadata": {},
   "outputs": [],
   "source": [
    "from google.cloud import aiplatform, storage\n",
    "import tempfile\n",
    "import joblib\n",
    "import os\n",
    "import pandas as pd\n",
    "from app.config import PROCESSOR_DIR, PROCESSOR_FILENAME, GCS_BUCKET_NAME"
   ]
  },
  {
   "cell_type": "code",
   "execution_count": 2,
   "id": "4c1cd24e",
   "metadata": {},
   "outputs": [],
   "source": [
    "def load_preprocessor_from_gcs(bucket_name, blob_path):\n",
    "    #Download preprocessor from GCS and load it\n",
    "    client = storage.Client()\n",
    "    bucket = client.bucket(bucket_name)\n",
    "    blob = bucket.blob(blob_path)\n",
    "\n",
    "    with tempfile.NamedTemporaryFile(delete=False) as temp_file:\n",
    "        blob.download_to_filename(temp_file.name)\n",
    "        preprocessor = joblib.load(temp_file.name)\n",
    "\n",
    "    return preprocessor\n",
    "\n",
    "\n",
    "def process_and_upload_file_to_gcs(gcs_input_uri, preprocessor, bucket_name, source_file, destination_blob):\n",
    "\n",
    "    os.makedirs(\"../processed_batch_data\", exist_ok=True)\n",
    "\n",
    "    df = pd.read_csv(gcs_input_uri)\n",
    "    processed_data = preprocessor.transform(df)\n",
    "    transformed_df = pd.DataFrame(processed_data)\n",
    "    transformed_df.to_csv(\"processed_batch_data/transformed_input.csv\", index=False)\n",
    "\n",
    "    storage_client = storage.Client()\n",
    "    bucket = storage_client.bucket(bucket_name)\n",
    "    blob = bucket.blob(destination_blob)\n",
    "    blob.upload_from_filename(source_file)\n",
    "\n",
    "    transformed_data_gcs_uri = f\"gs://{bucket_name}/{destination_blob}\"\n",
    "    return transformed_data_gcs_uri\n",
    "        "
   ]
  },
  {
   "cell_type": "code",
   "execution_count": null,
   "id": "5dac83e2",
   "metadata": {},
   "outputs": [
    {
     "name": "stdout",
     "output_type": "stream",
     "text": [
      "Creating BatchPredictionJob\n"
     ]
    },
    {
     "name": "stdout",
     "output_type": "stream",
     "text": [
      "BatchPredictionJob created. Resource name: projects/373714928690/locations/us-central1/batchPredictionJobs/247598697041362944\n",
      "To use this BatchPredictionJob in another session:\n",
      "bpj = aiplatform.BatchPredictionJob('projects/373714928690/locations/us-central1/batchPredictionJobs/247598697041362944')\n",
      "View Batch Prediction Job:\n",
      "https://console.cloud.google.com/ai/platform/locations/us-central1/batch-predictions/247598697041362944?project=373714928690\n",
      "BatchPredictionJob projects/373714928690/locations/us-central1/batchPredictionJobs/247598697041362944 current state:\n",
      "JobState.JOB_STATE_RUNNING\n",
      "BatchPredictionJob projects/373714928690/locations/us-central1/batchPredictionJobs/247598697041362944 current state:\n",
      "JobState.JOB_STATE_RUNNING\n",
      "BatchPredictionJob projects/373714928690/locations/us-central1/batchPredictionJobs/247598697041362944 current state:\n",
      "JobState.JOB_STATE_RUNNING\n",
      "BatchPredictionJob projects/373714928690/locations/us-central1/batchPredictionJobs/247598697041362944 current state:\n",
      "JobState.JOB_STATE_RUNNING\n",
      "BatchPredictionJob projects/373714928690/locations/us-central1/batchPredictionJobs/247598697041362944 current state:\n",
      "JobState.JOB_STATE_RUNNING\n",
      "BatchPredictionJob projects/373714928690/locations/us-central1/batchPredictionJobs/247598697041362944 current state:\n",
      "JobState.JOB_STATE_RUNNING\n",
      "BatchPredictionJob projects/373714928690/locations/us-central1/batchPredictionJobs/247598697041362944 current state:\n",
      "JobState.JOB_STATE_RUNNING\n",
      "BatchPredictionJob projects/373714928690/locations/us-central1/batchPredictionJobs/247598697041362944 current state:\n",
      "JobState.JOB_STATE_RUNNING\n",
      "BatchPredictionJob projects/373714928690/locations/us-central1/batchPredictionJobs/247598697041362944 current state:\n",
      "JobState.JOB_STATE_SUCCEEDED\n",
      "BatchPredictionJob run completed. Resource name: projects/373714928690/locations/us-central1/batchPredictionJobs/247598697041362944\n"
     ]
    }
   ],
   "source": [
    "gcs_input_uri = 'gs://flight_price_data/data/airlines_flights_data_small_batch.csv'\n",
    "BUCKET_URI = \"gs://flight_price_data/output\"\n",
    "\n",
    "PREPROCESSOR_BLOB_PATH = f\"{PROCESSOR_DIR}/{PROCESSOR_FILENAME}\"\n",
    "preprocessor = load_preprocessor_from_gcs(GCS_BUCKET_NAME, PREPROCESSOR_BLOB_PATH)\n",
    "\n",
    "model = aiplatform.Model(model_name=\"projects/flight-price-prediction-470515/locations/us-central1/models/3970181456759619584\")\n",
    "\n",
    "transformed_data_gcs_uri = process_and_upload_file_to_gcs(\n",
    "    gcs_input_uri, preprocessor, GCS_BUCKET_NAME, \n",
    "    \"processed_batch_data/transformed_input.csv\", \"data/transformed_input.csv\")\n",
    "\n",
    "\n",
    "\n",
    "batch_predict_job = model.batch_predict(\n",
    "    job_display_name=\"Flight_Price_Prediction_Batch_Job\",\n",
    "    gcs_source=transformed_data_gcs_uri,\n",
    "    gcs_destination_prefix=BUCKET_URI,\n",
    "    instances_format=\"csv\",\n",
    "    predictions_format=\"jsonl\",\n",
    "    machine_type=\"n1-standard-4\",\n",
    "    starting_replica_count=1,\n",
    "    max_replica_count=1,\n",
    "    service_account=\"vertexai-sa@flight-price-prediction-470515.iam.gserviceaccount.com\",\n",
    "    generate_explanation=True,\n",
    "    sync=False\n",
    ")"
   ]
  }
 ],
 "metadata": {
  "kernelspec": {
   "display_name": "myenv",
   "language": "python",
   "name": "python3"
  },
  "language_info": {
   "codemirror_mode": {
    "name": "ipython",
    "version": 3
   },
   "file_extension": ".py",
   "mimetype": "text/x-python",
   "name": "python",
   "nbconvert_exporter": "python",
   "pygments_lexer": "ipython3",
   "version": "3.10.18"
  }
 },
 "nbformat": 4,
 "nbformat_minor": 5
}
